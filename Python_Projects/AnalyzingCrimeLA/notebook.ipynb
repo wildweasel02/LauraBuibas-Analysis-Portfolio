{
 "cells": [
  {
   "cell_type": "markdown",
   "id": "31ab2131-3049-4d8d-b9dc-d195f72af27a",
   "metadata": {},
   "source": [
    "The Entertainment Capital of the World! \n",
    "\n",
    "Renowned for its sunny climate, palm-lined streets, and entertainment industry, LA also grapples with the challenges of urban life, including crime. I will be analyzing LA's  crime data to discern trends in criminal activity. The findings can be used to strategically allocate resources to address different types of crime across various neighborhoods.\n",
    "\n",
    "#### The Data \n",
    "Datacamp has provided me with a dataset to use. The original data is publicly available from Los Angeles Open Data. Project idea credit belongs to datacamp.com\n"
   ]
  },
  {
   "cell_type": "code",
   "execution_count": 144,
   "id": "7c6c3c36-5c8b-4cce-8681-95292b8f0861",
   "metadata": {
    "executionCancelledAt": null,
    "executionTime": 415,
    "lastExecutedAt": 1709856483786,
    "lastScheduledRunId": null,
    "lastSuccessfullyExecutedCode": "# Re-run this cell\n# Import required libraries\nimport pandas as pd\nimport numpy as np\nimport matplotlib.pyplot as plt\nimport seaborn as sns\ncrimes = pd.read_csv(\"crimes.csv\", parse_dates=[\"Date Rptd\", \"DATE OCC\"], dtype={\"TIME OCC\": str})\ncrimes.head()",
    "outputsMetadata": {
     "0": {
      "height": 213,
      "type": "dataFrame"
     }
    }
   },
   "outputs": [
    {
     "data": {
      "text/html": [
       "<div>\n",
       "<style scoped>\n",
       "    .dataframe tbody tr th:only-of-type {\n",
       "        vertical-align: middle;\n",
       "    }\n",
       "\n",
       "    .dataframe tbody tr th {\n",
       "        vertical-align: top;\n",
       "    }\n",
       "\n",
       "    .dataframe thead th {\n",
       "        text-align: right;\n",
       "    }\n",
       "</style>\n",
       "<table border=\"1\" class=\"dataframe\">\n",
       "  <thead>\n",
       "    <tr style=\"text-align: right;\">\n",
       "      <th></th>\n",
       "      <th>DR_NO</th>\n",
       "      <th>Date Rptd</th>\n",
       "      <th>DATE OCC</th>\n",
       "      <th>TIME OCC</th>\n",
       "      <th>AREA NAME</th>\n",
       "      <th>Crm Cd Desc</th>\n",
       "      <th>Vict Age</th>\n",
       "      <th>Vict Sex</th>\n",
       "      <th>Vict Descent</th>\n",
       "      <th>Weapon Desc</th>\n",
       "      <th>Status Desc</th>\n",
       "      <th>LOCATION</th>\n",
       "    </tr>\n",
       "  </thead>\n",
       "  <tbody>\n",
       "    <tr>\n",
       "      <th>0</th>\n",
       "      <td>221412410</td>\n",
       "      <td>2022-06-15</td>\n",
       "      <td>2020-11-12</td>\n",
       "      <td>1700</td>\n",
       "      <td>Pacific</td>\n",
       "      <td>THEFT FROM MOTOR VEHICLE - PETTY ($950 &amp; UNDER)</td>\n",
       "      <td>0</td>\n",
       "      <td>NaN</td>\n",
       "      <td>NaN</td>\n",
       "      <td>NaN</td>\n",
       "      <td>Invest Cont</td>\n",
       "      <td>13600    MARINA POINT                 DR</td>\n",
       "    </tr>\n",
       "    <tr>\n",
       "      <th>1</th>\n",
       "      <td>220314085</td>\n",
       "      <td>2022-07-22</td>\n",
       "      <td>2020-05-12</td>\n",
       "      <td>1110</td>\n",
       "      <td>Southwest</td>\n",
       "      <td>THEFT OF IDENTITY</td>\n",
       "      <td>27</td>\n",
       "      <td>F</td>\n",
       "      <td>B</td>\n",
       "      <td>NaN</td>\n",
       "      <td>Invest Cont</td>\n",
       "      <td>2500 S  SYCAMORE                     AV</td>\n",
       "    </tr>\n",
       "    <tr>\n",
       "      <th>2</th>\n",
       "      <td>222013040</td>\n",
       "      <td>2022-08-06</td>\n",
       "      <td>2020-06-04</td>\n",
       "      <td>1620</td>\n",
       "      <td>Olympic</td>\n",
       "      <td>THEFT OF IDENTITY</td>\n",
       "      <td>60</td>\n",
       "      <td>M</td>\n",
       "      <td>H</td>\n",
       "      <td>NaN</td>\n",
       "      <td>Invest Cont</td>\n",
       "      <td>3300    SAN MARINO                   ST</td>\n",
       "    </tr>\n",
       "    <tr>\n",
       "      <th>3</th>\n",
       "      <td>220614831</td>\n",
       "      <td>2022-08-18</td>\n",
       "      <td>2020-08-17</td>\n",
       "      <td>1200</td>\n",
       "      <td>Hollywood</td>\n",
       "      <td>THEFT OF IDENTITY</td>\n",
       "      <td>28</td>\n",
       "      <td>M</td>\n",
       "      <td>H</td>\n",
       "      <td>NaN</td>\n",
       "      <td>Invest Cont</td>\n",
       "      <td>1900    TRANSIENT</td>\n",
       "    </tr>\n",
       "    <tr>\n",
       "      <th>4</th>\n",
       "      <td>231207725</td>\n",
       "      <td>2023-02-27</td>\n",
       "      <td>2020-01-27</td>\n",
       "      <td>0635</td>\n",
       "      <td>77th Street</td>\n",
       "      <td>THEFT OF IDENTITY</td>\n",
       "      <td>37</td>\n",
       "      <td>M</td>\n",
       "      <td>H</td>\n",
       "      <td>NaN</td>\n",
       "      <td>Invest Cont</td>\n",
       "      <td>6200    4TH                          AV</td>\n",
       "    </tr>\n",
       "  </tbody>\n",
       "</table>\n",
       "</div>"
      ],
      "text/plain": [
       "       DR_NO  Date Rptd   DATE OCC TIME OCC    AREA NAME  \\\n",
       "0  221412410 2022-06-15 2020-11-12     1700      Pacific   \n",
       "1  220314085 2022-07-22 2020-05-12     1110    Southwest   \n",
       "2  222013040 2022-08-06 2020-06-04     1620      Olympic   \n",
       "3  220614831 2022-08-18 2020-08-17     1200    Hollywood   \n",
       "4  231207725 2023-02-27 2020-01-27     0635  77th Street   \n",
       "\n",
       "                                       Crm Cd Desc  Vict Age Vict Sex  \\\n",
       "0  THEFT FROM MOTOR VEHICLE - PETTY ($950 & UNDER)         0      NaN   \n",
       "1                                THEFT OF IDENTITY        27        F   \n",
       "2                                THEFT OF IDENTITY        60        M   \n",
       "3                                THEFT OF IDENTITY        28        M   \n",
       "4                                THEFT OF IDENTITY        37        M   \n",
       "\n",
       "  Vict Descent Weapon Desc  Status Desc  \\\n",
       "0          NaN         NaN  Invest Cont   \n",
       "1            B         NaN  Invest Cont   \n",
       "2            H         NaN  Invest Cont   \n",
       "3            H         NaN  Invest Cont   \n",
       "4            H         NaN  Invest Cont   \n",
       "\n",
       "                                   LOCATION  \n",
       "0  13600    MARINA POINT                 DR  \n",
       "1   2500 S  SYCAMORE                     AV  \n",
       "2   3300    SAN MARINO                   ST  \n",
       "3                         1900    TRANSIENT  \n",
       "4   6200    4TH                          AV  "
      ]
     },
     "execution_count": 144,
     "metadata": {},
     "output_type": "execute_result"
    }
   ],
   "source": [
    "# Re-run this cell\n",
    "# Import required libraries\n",
    "import pandas as pd\n",
    "import numpy as np\n",
    "import matplotlib.pyplot as plt\n",
    "import seaborn as sns\n",
    "\n",
    "crimes = pd.read_csv(\"crimes.csv\", parse_dates=[\"Date Rptd\", \"DATE OCC\"], dtype={\"TIME OCC\": str})\n",
    "crimes.head()"
   ]
  },
  {
   "cell_type": "code",
   "execution_count": 145,
   "id": "5a95ae0b-66b8-4090-9387-aa8b4360a8d4",
   "metadata": {},
   "outputs": [
    {
     "name": "stdout",
     "output_type": "stream",
     "text": [
      "DR_NO                    int64\n",
      "Date Rptd       datetime64[ns]\n",
      "DATE OCC        datetime64[ns]\n",
      "TIME OCC                object\n",
      "AREA NAME               object\n",
      "Crm Cd Desc             object\n",
      "Vict Age                 int64\n",
      "Vict Sex                object\n",
      "Vict Descent            object\n",
      "Weapon Desc             object\n",
      "Status Desc             object\n",
      "LOCATION                object\n",
      "dtype: object\n"
     ]
    }
   ],
   "source": [
    "#find the data types of the columns \n",
    "print(crimes.dtypes)"
   ]
  },
  {
   "cell_type": "code",
   "execution_count": 146,
   "id": "87ac02eb-bdb6-4f53-b1e7-539b177e1352",
   "metadata": {},
   "outputs": [],
   "source": [
    "# DATA CLEANING BEFORE ANALYSIS - Part 1\n",
    "\n",
    "# Remove any possible fully duplicate rows\n",
    "crimes.drop_duplicates(inplace=True)\n",
    "\n",
    "# Filter out possible rows where victim age is less than 0 or greater than 120\n",
    "crimes = crimes[(crimes['Vict Age'] >= 0) & (crimes['Vict Age'] <= 120)]"
   ]
  },
  {
   "cell_type": "code",
   "execution_count": 147,
   "id": "893743ad-74b0-4a27-95a2-a93f3b19dfc6",
   "metadata": {},
   "outputs": [],
   "source": [
    "# Data cleaning - part 2 - Make sure the time is valid\n",
    "\n",
    "# Filter out possible rows where TIME OCC is not in the format HHMM or not within 0000-2359\n",
    "crimes['TIME OCC'] = crimes['TIME OCC'].astype(str)\n",
    "valid_time_mask = crimes['TIME OCC'].str.match(r'^[0-2][0-9][0-5][0-9]$') & (crimes['TIME OCC'].astype(int) >= 0) & (crimes['TIME OCC'].astype(int) <= 2359)\n",
    "crimes = crimes[valid_time_mask] # Apply the mask to filter out invalid rows"
   ]
  },
  {
   "cell_type": "markdown",
   "id": "3b96fbf4-4d89-44e4-8e62-1cc84c707d03",
   "metadata": {},
   "source": [
    "Which hour has the highest frequency of crimes?\n",
    "- 12pm"
   ]
  },
  {
   "cell_type": "code",
   "execution_count": 148,
   "id": "8819a2fa-93f9-44bc-9a84-59bba62c0a9e",
   "metadata": {
    "executionCancelledAt": null,
    "executionTime": 62,
    "lastExecutedAt": 1709856483848,
    "lastScheduledRunId": null,
    "lastSuccessfullyExecutedCode": "peak_crime_time = crimes['TIME OCC'].mode()\nprint(peak_crime_time[0])",
    "outputsMetadata": {
     "0": {
      "height": 37,
      "type": "stream"
     }
    }
   },
   "outputs": [
    {
     "name": "stdout",
     "output_type": "stream",
     "text": [
      "1200\n"
     ]
    }
   ],
   "source": [
    "peak_crime_time = crimes['TIME OCC'].mode()\n",
    "print(peak_crime_time[0])"
   ]
  },
  {
   "cell_type": "code",
   "execution_count": 149,
   "id": "b3add324-8a50-4a33-b4f3-d37d57f44d76",
   "metadata": {
    "executionCancelledAt": null,
    "executionTime": 578,
    "lastExecutedAt": 1709856484426,
    "lastScheduledRunId": null,
    "lastSuccessfullyExecutedCode": "crimes['hour_occ'] = crimes['TIME OCC'].str[:2].astype(int)\nsns.countplot(data=crimes, x='hour_occ')\nplt.xlabel('Hour of occurrence')\nplt.ylabel('Count of crimes')\nplt.title('Count of crimes by hours')\nplt.show()",
    "outputsMetadata": {
     "0": {
      "height": 257,
      "type": "stream"
     }
    }
   },
   "outputs": [
    {
     "data": {
      "image/png": "[encoded data removed]",
      "text/plain": [
       "<Figure size 640x480 with 1 Axes>"
      ]
     },
     "metadata": {},
     "output_type": "display_data"
    }
   ],
   "source": [
    "crimes['hour_occ'] = crimes['TIME OCC'].str[:2].astype(int)\n",
    "sns.countplot(data=crimes, x='hour_occ')\n",
    "plt.xlabel('Hour of occurrence')\n",
    "plt.ylabel('Count of crimes')\n",
    "plt.title('Count of crimes by hours')\n",
    "plt.show()"
   ]
  },
  {
   "cell_type": "markdown",
   "id": "8b6b69a9-d552-4155-aea7-146b16be390c",
   "metadata": {},
   "source": [
    "Which area has the largest frequency of night crimes\n",
    "- Central"
   ]
  },
  {
   "cell_type": "code",
   "execution_count": 150,
   "id": "bde02e56-4123-424b-a3df-bfbc6da34787",
   "metadata": {
    "executionCancelledAt": null,
    "executionTime": 45,
    "lastExecutedAt": 1709856484471,
    "lastScheduledRunId": null,
    "lastSuccessfullyExecutedCode": "night_crimes = crimes[crimes['hour_occ'].isin([22, 23, 0, 1, 2, 3])]\nnight_crimes.head()",
    "outputsMetadata": {
     "0": {
      "height": 213,
      "type": "dataFrame"
     }
    }
   },
   "outputs": [
    {
     "data": {
      "text/html": [
       "<div>\n",
       "<style scoped>\n",
       "    .dataframe tbody tr th:only-of-type {\n",
       "        vertical-align: middle;\n",
       "    }\n",
       "\n",
       "    .dataframe tbody tr th {\n",
       "        vertical-align: top;\n",
       "    }\n",
       "\n",
       "    .dataframe thead th {\n",
       "        text-align: right;\n",
       "    }\n",
       "</style>\n",
       "<table border=\"1\" class=\"dataframe\">\n",
       "  <thead>\n",
       "    <tr style=\"text-align: right;\">\n",
       "      <th></th>\n",
       "      <th>DR_NO</th>\n",
       "      <th>Date Rptd</th>\n",
       "      <th>DATE OCC</th>\n",
       "      <th>TIME OCC</th>\n",
       "      <th>AREA NAME</th>\n",
       "      <th>Crm Cd Desc</th>\n",
       "      <th>Vict Age</th>\n",
       "      <th>Vict Sex</th>\n",
       "      <th>Vict Descent</th>\n",
       "      <th>Weapon Desc</th>\n",
       "      <th>Status Desc</th>\n",
       "      <th>LOCATION</th>\n",
       "      <th>hour_occ</th>\n",
       "    </tr>\n",
       "  </thead>\n",
       "  <tbody>\n",
       "    <tr>\n",
       "      <th>9</th>\n",
       "      <td>231207476</td>\n",
       "      <td>2023-02-27</td>\n",
       "      <td>2020-08-15</td>\n",
       "      <td>0001</td>\n",
       "      <td>77th Street</td>\n",
       "      <td>BURGLARY</td>\n",
       "      <td>72</td>\n",
       "      <td>M</td>\n",
       "      <td>B</td>\n",
       "      <td>NaN</td>\n",
       "      <td>Invest Cont</td>\n",
       "      <td>8800    HAAS                         AV</td>\n",
       "      <td>0</td>\n",
       "    </tr>\n",
       "    <tr>\n",
       "      <th>12</th>\n",
       "      <td>221711184</td>\n",
       "      <td>2022-06-15</td>\n",
       "      <td>2020-05-15</td>\n",
       "      <td>0155</td>\n",
       "      <td>Devonshire</td>\n",
       "      <td>THEFT OF IDENTITY</td>\n",
       "      <td>27</td>\n",
       "      <td>M</td>\n",
       "      <td>B</td>\n",
       "      <td>NaN</td>\n",
       "      <td>Invest Cont</td>\n",
       "      <td>8300    WHITE OAK                    AV</td>\n",
       "      <td>1</td>\n",
       "    </tr>\n",
       "    <tr>\n",
       "      <th>36</th>\n",
       "      <td>221314362</td>\n",
       "      <td>2022-07-11</td>\n",
       "      <td>2020-04-07</td>\n",
       "      <td>0001</td>\n",
       "      <td>Newton</td>\n",
       "      <td>THEFT OF IDENTITY</td>\n",
       "      <td>53</td>\n",
       "      <td>F</td>\n",
       "      <td>H</td>\n",
       "      <td>NaN</td>\n",
       "      <td>Invest Cont</td>\n",
       "      <td>1600 E  OLYMPIC                      BL</td>\n",
       "      <td>0</td>\n",
       "    </tr>\n",
       "    <tr>\n",
       "      <th>39</th>\n",
       "      <td>231307252</td>\n",
       "      <td>2023-03-03</td>\n",
       "      <td>2020-07-05</td>\n",
       "      <td>2305</td>\n",
       "      <td>Newton</td>\n",
       "      <td>THEFT OF IDENTITY</td>\n",
       "      <td>22</td>\n",
       "      <td>F</td>\n",
       "      <td>B</td>\n",
       "      <td>NaN</td>\n",
       "      <td>Invest Cont</td>\n",
       "      <td>6600 S  BROADWAY</td>\n",
       "      <td>23</td>\n",
       "    </tr>\n",
       "    <tr>\n",
       "      <th>42</th>\n",
       "      <td>221614254</td>\n",
       "      <td>2022-11-13</td>\n",
       "      <td>2020-01-01</td>\n",
       "      <td>0001</td>\n",
       "      <td>Foothill</td>\n",
       "      <td>THEFT OF IDENTITY</td>\n",
       "      <td>22</td>\n",
       "      <td>F</td>\n",
       "      <td>H</td>\n",
       "      <td>NaN</td>\n",
       "      <td>Invest Cont</td>\n",
       "      <td>10200    TELFAIR                      AV</td>\n",
       "      <td>0</td>\n",
       "    </tr>\n",
       "  </tbody>\n",
       "</table>\n",
       "</div>"
      ],
      "text/plain": [
       "        DR_NO  Date Rptd   DATE OCC TIME OCC    AREA NAME        Crm Cd Desc  \\\n",
       "9   231207476 2023-02-27 2020-08-15     0001  77th Street           BURGLARY   \n",
       "12  221711184 2022-06-15 2020-05-15     0155   Devonshire  THEFT OF IDENTITY   \n",
       "36  221314362 2022-07-11 2020-04-07     0001       Newton  THEFT OF IDENTITY   \n",
       "39  231307252 2023-03-03 2020-07-05     2305       Newton  THEFT OF IDENTITY   \n",
       "42  221614254 2022-11-13 2020-01-01     0001     Foothill  THEFT OF IDENTITY   \n",
       "\n",
       "    Vict Age Vict Sex Vict Descent Weapon Desc  Status Desc  \\\n",
       "9         72        M            B         NaN  Invest Cont   \n",
       "12        27        M            B         NaN  Invest Cont   \n",
       "36        53        F            H         NaN  Invest Cont   \n",
       "39        22        F            B         NaN  Invest Cont   \n",
       "42        22        F            H         NaN  Invest Cont   \n",
       "\n",
       "                                    LOCATION  hour_occ  \n",
       "9    8800    HAAS                         AV         0  \n",
       "12   8300    WHITE OAK                    AV         1  \n",
       "36   1600 E  OLYMPIC                      BL         0  \n",
       "39                          6600 S  BROADWAY        23  \n",
       "42  10200    TELFAIR                      AV         0  "
      ]
     },
     "execution_count": 150,
     "metadata": {},
     "output_type": "execute_result"
    }
   ],
   "source": [
    "night_crimes = crimes[crimes['hour_occ'].isin([22, 23, 0, 1, 2, 3])]\n",
    "night_crimes.head()"
   ]
  },
  {
   "cell_type": "code",
   "execution_count": 151,
   "id": "62b8893a-6d91-430d-8b07-66a02594a13a",
   "metadata": {
    "chartConfig": {
     "bar": {
      "hasRoundedCorners": true,
      "stacked": false
     },
     "type": "bar",
     "version": "v1",
     "x": {
      "field": "index",
      "type": "string"
     },
     "y": {
      "field": "AREA NAME",
      "type": "integer"
     }
    },
    "executionCancelledAt": null,
    "executionTime": 58,
    "lastExecutedAt": 1709856484529,
    "lastScheduledRunId": null,
    "lastSuccessfullyExecutedCode": "night_crimes = night_crimes['AREA NAME'].value_counts().to_frame()\nnight_crimes.head(5)",
    "outputsMetadata": {
     "0": {
      "height": 198,
      "type": "dataFrame"
     }
    },
    "visualizeDataframe": false
   },
   "outputs": [
    {
     "data": {
      "text/html": [
       "<div>\n",
       "<style scoped>\n",
       "    .dataframe tbody tr th:only-of-type {\n",
       "        vertical-align: middle;\n",
       "    }\n",
       "\n",
       "    .dataframe tbody tr th {\n",
       "        vertical-align: top;\n",
       "    }\n",
       "\n",
       "    .dataframe thead th {\n",
       "        text-align: right;\n",
       "    }\n",
       "</style>\n",
       "<table border=\"1\" class=\"dataframe\">\n",
       "  <thead>\n",
       "    <tr style=\"text-align: right;\">\n",
       "      <th></th>\n",
       "      <th>count</th>\n",
       "    </tr>\n",
       "    <tr>\n",
       "      <th>AREA NAME</th>\n",
       "      <th></th>\n",
       "    </tr>\n",
       "  </thead>\n",
       "  <tbody>\n",
       "    <tr>\n",
       "      <th>Central</th>\n",
       "      <td>4090</td>\n",
       "    </tr>\n",
       "    <tr>\n",
       "      <th>77th Street</th>\n",
       "      <td>3362</td>\n",
       "    </tr>\n",
       "    <tr>\n",
       "      <th>Hollywood</th>\n",
       "      <td>3299</td>\n",
       "    </tr>\n",
       "    <tr>\n",
       "      <th>Newton</th>\n",
       "      <td>2927</td>\n",
       "    </tr>\n",
       "    <tr>\n",
       "      <th>Southeast</th>\n",
       "      <td>2884</td>\n",
       "    </tr>\n",
       "  </tbody>\n",
       "</table>\n",
       "</div>"
      ],
      "text/plain": [
       "             count\n",
       "AREA NAME         \n",
       "Central       4090\n",
       "77th Street   3362\n",
       "Hollywood     3299\n",
       "Newton        2927\n",
       "Southeast     2884"
      ]
     },
     "execution_count": 151,
     "metadata": {},
     "output_type": "execute_result"
    }
   ],
   "source": [
    "night_crimes = night_crimes['AREA NAME'].value_counts().to_frame()\n",
    "night_crimes.head(5)"
   ]
  },
  {
   "cell_type": "code",
   "execution_count": 152,
   "id": "3edf91d1-cf67-432a-b91c-f1aa8c749007",
   "metadata": {
    "executionCancelledAt": null,
    "executionTime": 330,
    "lastExecutedAt": 1709856484859,
    "lastScheduledRunId": null,
    "lastSuccessfullyExecutedCode": "sns.barplot(data=night_crimes, x=night_crimes.index, y='AREA NAME')\nplt.xticks(rotation=90)\nplt.xlabel('Area name')\nplt.ylabel('Count of crimes')\nplt.title('The count of crimes by LA area')\nplt.show()"
   },
   "outputs": [
    {
     "data": {
      "image/png": "[encoded data removed]",
      "text/plain": [
       "<Figure size 640x480 with 1 Axes>"
      ]
     },
     "metadata": {},
     "output_type": "display_data"
    }
   ],
   "source": [
    "sns.barplot(data=night_crimes, x=night_crimes.index, y='count')\n",
    "plt.xticks(rotation=90)\n",
    "plt.xlabel('Area name')\n",
    "plt.ylabel('Count of crimes')\n",
    "plt.title('The count of crimes by LA area')\n",
    "plt.show()"
   ]
  },
  {
   "cell_type": "markdown",
   "id": "4d73c0bd-9483-4751-964e-ab6d712eb138",
   "metadata": {},
   "source": [
    "Identify the number of crimes committed against victims by age group"
   ]
  },
  {
   "cell_type": "code",
   "execution_count": 153,
   "id": "f1e8d07a-65fa-451f-835c-6d7bf84e4701",
   "metadata": {
    "chartConfig": {
     "bar": {
      "hasRoundedCorners": true,
      "stacked": false
     },
     "type": "bar",
     "version": "v1",
     "x": {
      "field": "index",
      "type": "any"
     },
     "y": {
      "field": "Age Bracket",
      "type": "integer"
     }
    },
    "executionCancelledAt": null,
    "executionTime": 51,
    "lastExecutedAt": 1709856484911,
    "lastScheduledRunId": null,
    "lastSuccessfullyExecutedCode": "age_bins = [0, 17, 25, 34, 44, 54, 64, np.inf]\nage_labels = [\"0-17\", \"18-25\", \"26-34\", \"35-44\", \"45-54\", \"55-64\", \"65+\"]\n\n# Add a new column using pd.cut() to bin values into discrete intervals\ncrimes[\"Age Bracket\"] = pd.cut(crimes[\"Vict Age\"],\n                               bins=age_bins,\n                               labels=age_labels)\n\n# Find the category with the largest frequency\nvictim_ages = crimes[\"Age Bracket\"].value_counts()\nprint(victim_ages)",
    "outputsMetadata": {
     "0": {
      "height": 177,
      "type": "stream"
     }
    },
    "visualizeDataframe": false
   },
   "outputs": [
    {
     "name": "stdout",
     "output_type": "stream",
     "text": [
      "Age Bracket\n",
      "26-34    47470\n",
      "35-44    42157\n",
      "45-54    28353\n",
      "18-25    28291\n",
      "55-64    20169\n",
      "65+      14747\n",
      "0-17      4528\n",
      "Name: count, dtype: int64\n"
     ]
    }
   ],
   "source": [
    "age_bins = [0, 17, 25, 34, 44, 54, 64, np.inf]\n",
    "age_labels = [\"0-17\", \"18-25\", \"26-34\", \"35-44\", \"45-54\", \"55-64\", \"65+\"]\n",
    "\n",
    "# Add a new column using pd.cut() to bin values into discrete intervals\n",
    "crimes[\"Age Bracket\"] = pd.cut(crimes[\"Vict Age\"],\n",
    "                               bins=age_bins,\n",
    "                               labels=age_labels)\n",
    "\n",
    "# Find the category with the largest frequency\n",
    "victim_ages = crimes[\"Age Bracket\"].value_counts()\n",
    "print(victim_ages)"
   ]
  },
  {
   "cell_type": "code",
   "execution_count": 154,
   "id": "5082f564-5a28-4640-ab74-40b595758417",
   "metadata": {},
   "outputs": [
    {
     "data": {
      "text/html": [
       "<div>\n",
       "<style scoped>\n",
       "    .dataframe tbody tr th:only-of-type {\n",
       "        vertical-align: middle;\n",
       "    }\n",
       "\n",
       "    .dataframe tbody tr th {\n",
       "        vertical-align: top;\n",
       "    }\n",
       "\n",
       "    .dataframe thead th {\n",
       "        text-align: right;\n",
       "    }\n",
       "</style>\n",
       "<table border=\"1\" class=\"dataframe\">\n",
       "  <thead>\n",
       "    <tr style=\"text-align: right;\">\n",
       "      <th></th>\n",
       "      <th>count</th>\n",
       "    </tr>\n",
       "    <tr>\n",
       "      <th>Age Bracket</th>\n",
       "      <th></th>\n",
       "    </tr>\n",
       "  </thead>\n",
       "  <tbody>\n",
       "    <tr>\n",
       "      <th>26-34</th>\n",
       "      <td>47470</td>\n",
       "    </tr>\n",
       "    <tr>\n",
       "      <th>35-44</th>\n",
       "      <td>42157</td>\n",
       "    </tr>\n",
       "    <tr>\n",
       "      <th>45-54</th>\n",
       "      <td>28353</td>\n",
       "    </tr>\n",
       "    <tr>\n",
       "      <th>18-25</th>\n",
       "      <td>28291</td>\n",
       "    </tr>\n",
       "    <tr>\n",
       "      <th>55-64</th>\n",
       "      <td>20169</td>\n",
       "    </tr>\n",
       "  </tbody>\n",
       "</table>\n",
       "</div>"
      ],
      "text/plain": [
       "             count\n",
       "Age Bracket       \n",
       "26-34        47470\n",
       "35-44        42157\n",
       "45-54        28353\n",
       "18-25        28291\n",
       "55-64        20169"
      ]
     },
     "execution_count": 154,
     "metadata": {},
     "output_type": "execute_result"
    }
   ],
   "source": [
    "victim_ages = victim_ages.to_frame()\n",
    "victim_ages.head()"
   ]
  },
  {
   "cell_type": "code",
   "execution_count": 155,
   "id": "ed6bd0f9-4f99-4abe-b291-a4d749557c94",
   "metadata": {
    "executionCancelledAt": null,
    "executionTime": 185,
    "lastExecutedAt": 1709856485096,
    "lastScheduledRunId": null,
    "lastSuccessfullyExecutedCode": "victim_ages = victim_ages.to_frame()\nsns.barplot(data=victim_ages, x=victim_ages.index, y='Age Bracket')\nplt.xlabel('Age range')\nplt.ylabel('Count of crimes')\nplt.title('Victim ages vs count of crimes')\nplt.show()"
   },
   "outputs": [
    {
     "data": {
      "image/png": "[encoded data removed]",
      "text/plain": [
       "<Figure size 640x480 with 1 Axes>"
      ]
     },
     "metadata": {},
     "output_type": "display_data"
    }
   ],
   "source": [
    "sns.barplot(data=victim_ages, x=victim_ages.index, y='count')\n",
    "plt.xlabel('Age range')\n",
    "plt.ylabel('Count of crimes')\n",
    "plt.title('Victim ages vs count of crimes')\n",
    "plt.show()"
   ]
  },
  {
   "cell_type": "code",
   "execution_count": null,
   "id": "4bf33378-b3d0-4b65-bbcf-4bbf6c8af641",
   "metadata": {},
   "outputs": [],
   "source": []
  }
 ],
 "metadata": {
  "colab": {
   "name": "Welcome to DataCamp Workspaces.ipynb",
   "provenance": []
  },
  "kernelspec": {
   "display_name": "Python 3 (ipykernel)",
   "language": "python",
   "name": "python3"
  },
  "language_info": {
   "codemirror_mode": {
    "name": "ipython",
    "version": 3
   },
   "file_extension": ".py",
   "mimetype": "text/x-python",
   "name": "python",
   "nbconvert_exporter": "python",
   "pygments_lexer": "ipython3",
   "version": "3.11.5"
  }
 },
 "nbformat": 4,
 "nbformat_minor": 5
}
