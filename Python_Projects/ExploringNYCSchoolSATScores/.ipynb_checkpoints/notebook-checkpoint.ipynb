{
 "cells": [
  {
   "cell_type": "markdown",
   "id": "fe0ea788-58dd-459e-8976-fafdb5c05c6d",
   "metadata": {},
   "source": [
    "Every year, American high school students take the SATs - the standardized tests that measure literacy, numeracy, and writing skills. There are three sections - reading, math, and writing, each with a **maximum score of 800 points**. These tests play a pivotal role in the admissions process.\n",
    "\n",
    "Analyzing the performance of schools is important for stakeholders such as policy and education professionals, researchers, government, and even parents considering which school their children should attend. \n",
    "\n",
    "I have a dataset called `schools.csv`, which is previewed below. Project idea credits belong to datacamp.com"
   ]
  },
  {
   "cell_type": "code",
   "execution_count": 69,
   "id": "d0eb4f16-5a99-460d-a5ba-706b7ef0bbe7",
   "metadata": {
    "chartConfig": {
     "bar": {
      "hasRoundedCorners": true,
      "stacked": false
     },
     "type": "bar",
     "version": "v1"
    },
    "executionCancelledAt": null,
    "executionTime": 27,
    "id": "bA5ajAmk7XH6",
    "lastExecutedAt": 1708281239752,
    "lastScheduledRunId": null,
    "lastSuccessfullyExecutedCode": "# Re-run this cell \nimport pandas as pd\n\n# Read in the data\nschools = pd.read_csv(\"schools.csv\")\n\n# Preview the data\nschools.head()",
    "outputsMetadata": {
     "0": {
      "height": 0,
      "type": "dataFrame"
     }
    },
    "visualizeDataframe": false
   },
   "outputs": [
    {
     "data": {
      "application/com.datacamp.data-table.v2+json": {
       "table": {
        "data": {
         "average_math": [
          657,
          395,
          418,
          613,
          410
         ],
         "average_reading": [
          601,
          411,
          428,
          453,
          406
         ],
         "average_writing": [
          601,
          387,
          415,
          463,
          381
         ],
         "borough": [
          "Manhattan",
          "Manhattan",
          "Manhattan",
          "Manhattan",
          "Manhattan"
         ],
         "building_code": [
          "M022",
          "M445",
          "M445",
          "M445",
          "M056"
         ],
         "index": [
          0,
          1,
          2,
          3,
          4
         ],
         "percent_tested": [
          null,
          78.9,
          65.1,
          95.9,
          59.7
         ],
         "school_name": [
          "New Explorations into Science, Technology and Math High School",
          "Essex Street Academy",
          "Lower Manhattan Arts Academy",
          "High School for Dual Language and Asian Studies",
          "Henry Street School for International Studies"
         ]
        },
        "schema": {
         "fields": [
          {
           "name": "index",
           "type": "integer"
          },
          {
           "name": "school_name",
           "type": "string"
          },
          {
           "name": "borough",
           "type": "string"
          },
          {
           "name": "building_code",
           "type": "string"
          },
          {
           "name": "average_math",
           "type": "integer"
          },
          {
           "name": "average_reading",
           "type": "integer"
          },
          {
           "name": "average_writing",
           "type": "integer"
          },
          {
           "name": "percent_tested",
           "type": "number"
          }
         ],
         "pandas_version": "1.4.0",
         "primaryKey": [
          "index"
         ]
        }
       },
       "total_rows": 5,
       "truncation_type": null
      },
      "text/html": [
       "<div>\n",
       "<style scoped>\n",
       "    .dataframe tbody tr th:only-of-type {\n",
       "        vertical-align: middle;\n",
       "    }\n",
       "\n",
       "    .dataframe tbody tr th {\n",
       "        vertical-align: top;\n",
       "    }\n",
       "\n",
       "    .dataframe thead th {\n",
       "        text-align: right;\n",
       "    }\n",
       "</style>\n",
       "<table border=\"1\" class=\"dataframe\">\n",
       "  <thead>\n",
       "    <tr style=\"text-align: right;\">\n",
       "      <th></th>\n",
       "      <th>school_name</th>\n",
       "      <th>borough</th>\n",
       "      <th>building_code</th>\n",
       "      <th>average_math</th>\n",
       "      <th>average_reading</th>\n",
       "      <th>average_writing</th>\n",
       "      <th>percent_tested</th>\n",
       "    </tr>\n",
       "  </thead>\n",
       "  <tbody>\n",
       "    <tr>\n",
       "      <th>0</th>\n",
       "      <td>New Explorations into Science, Technology and ...</td>\n",
       "      <td>Manhattan</td>\n",
       "      <td>M022</td>\n",
       "      <td>657</td>\n",
       "      <td>601</td>\n",
       "      <td>601</td>\n",
       "      <td>NaN</td>\n",
       "    </tr>\n",
       "    <tr>\n",
       "      <th>1</th>\n",
       "      <td>Essex Street Academy</td>\n",
       "      <td>Manhattan</td>\n",
       "      <td>M445</td>\n",
       "      <td>395</td>\n",
       "      <td>411</td>\n",
       "      <td>387</td>\n",
       "      <td>78.9</td>\n",
       "    </tr>\n",
       "    <tr>\n",
       "      <th>2</th>\n",
       "      <td>Lower Manhattan Arts Academy</td>\n",
       "      <td>Manhattan</td>\n",
       "      <td>M445</td>\n",
       "      <td>418</td>\n",
       "      <td>428</td>\n",
       "      <td>415</td>\n",
       "      <td>65.1</td>\n",
       "    </tr>\n",
       "    <tr>\n",
       "      <th>3</th>\n",
       "      <td>High School for Dual Language and Asian Studies</td>\n",
       "      <td>Manhattan</td>\n",
       "      <td>M445</td>\n",
       "      <td>613</td>\n",
       "      <td>453</td>\n",
       "      <td>463</td>\n",
       "      <td>95.9</td>\n",
       "    </tr>\n",
       "    <tr>\n",
       "      <th>4</th>\n",
       "      <td>Henry Street School for International Studies</td>\n",
       "      <td>Manhattan</td>\n",
       "      <td>M056</td>\n",
       "      <td>410</td>\n",
       "      <td>406</td>\n",
       "      <td>381</td>\n",
       "      <td>59.7</td>\n",
       "    </tr>\n",
       "  </tbody>\n",
       "</table>\n",
       "</div>"
      ],
      "text/plain": [
       "                                         school_name  ... percent_tested\n",
       "0  New Explorations into Science, Technology and ...  ...            NaN\n",
       "1                               Essex Street Academy  ...           78.9\n",
       "2                       Lower Manhattan Arts Academy  ...           65.1\n",
       "3    High School for Dual Language and Asian Studies  ...           95.9\n",
       "4      Henry Street School for International Studies  ...           59.7\n",
       "\n",
       "[5 rows x 7 columns]"
      ]
     },
     "execution_count": 69,
     "metadata": {},
     "output_type": "execute_result"
    }
   ],
   "source": [
    "# Re-run this cell \n",
    "import pandas as pd\n",
    "\n",
    "# Read in the data\n",
    "schools = pd.read_csv(\"schools.csv\")\n",
    "\n",
    "# Preview the data\n",
    "schools.head()"
   ]
  },
  {
   "cell_type": "markdown",
   "id": "75445180-53ae-4ff0-8ff6-0c60ac39ca45",
   "metadata": {},
   "source": [
    "In this exercise, I answered three key questions about New York City (NYC) public school SAT performance - which schools are in the top 5 for best math scores, which schools are the top 10 for overall scores, and which borough has the highest standard deviation"
   ]
  },
  {
   "cell_type": "markdown",
   "id": "2d41a79a-e655-40f9-842d-72acf1e95697",
   "metadata": {},
   "source": [
    "The top 5 NYC schools with the best math results"
   ]
  },
  {
   "cell_type": "code",
   "execution_count": 70,
   "id": "ec62fec6-b1ae-426c-b680-944882998203",
   "metadata": {
    "executionCancelledAt": null,
    "executionTime": 50,
    "lastExecutedAt": 1708281239802,
    "lastScheduledRunId": null,
    "lastSuccessfullyExecutedCode": "best_math_schools = schools[schools['average_math'] >= 640][['school_name', 'average_math']].sort_values('average_math', ascending=False)\n\nbest_math_schools.head()",
    "outputsMetadata": {
     "0": {
      "height": 0,
      "type": "dataFrame"
     },
     "1": {
      "height": 198,
      "type": "dataFrame"
     }
    }
   },
   "outputs": [
    {
     "data": {
      "application/com.datacamp.data-table.v2+json": {
       "table": {
        "data": {
         "average_math": [
          754,
          714,
          711,
          701,
          683
         ],
         "index": [
          88,
          170,
          93,
          365,
          68
         ],
         "school_name": [
          "Stuyvesant High School",
          "Bronx High School of Science",
          "Staten Island Technical High School",
          "Queens High School for the Sciences at York College",
          "High School for Mathematics, Science, and Engineering at City College"
         ]
        },
        "schema": {
         "fields": [
          {
           "name": "index",
           "type": "integer"
          },
          {
           "name": "school_name",
           "type": "string"
          },
          {
           "name": "average_math",
           "type": "integer"
          }
         ],
         "pandas_version": "1.4.0",
         "primaryKey": [
          "index"
         ]
        }
       },
       "total_rows": 5,
       "truncation_type": null
      },
      "text/html": [
       "<div>\n",
       "<style scoped>\n",
       "    .dataframe tbody tr th:only-of-type {\n",
       "        vertical-align: middle;\n",
       "    }\n",
       "\n",
       "    .dataframe tbody tr th {\n",
       "        vertical-align: top;\n",
       "    }\n",
       "\n",
       "    .dataframe thead th {\n",
       "        text-align: right;\n",
       "    }\n",
       "</style>\n",
       "<table border=\"1\" class=\"dataframe\">\n",
       "  <thead>\n",
       "    <tr style=\"text-align: right;\">\n",
       "      <th></th>\n",
       "      <th>school_name</th>\n",
       "      <th>average_math</th>\n",
       "    </tr>\n",
       "  </thead>\n",
       "  <tbody>\n",
       "    <tr>\n",
       "      <th>88</th>\n",
       "      <td>Stuyvesant High School</td>\n",
       "      <td>754</td>\n",
       "    </tr>\n",
       "    <tr>\n",
       "      <th>170</th>\n",
       "      <td>Bronx High School of Science</td>\n",
       "      <td>714</td>\n",
       "    </tr>\n",
       "    <tr>\n",
       "      <th>93</th>\n",
       "      <td>Staten Island Technical High School</td>\n",
       "      <td>711</td>\n",
       "    </tr>\n",
       "    <tr>\n",
       "      <th>365</th>\n",
       "      <td>Queens High School for the Sciences at York Co...</td>\n",
       "      <td>701</td>\n",
       "    </tr>\n",
       "    <tr>\n",
       "      <th>68</th>\n",
       "      <td>High School for Mathematics, Science, and Engi...</td>\n",
       "      <td>683</td>\n",
       "    </tr>\n",
       "  </tbody>\n",
       "</table>\n",
       "</div>"
      ],
      "text/plain": [
       "                                           school_name  average_math\n",
       "88                              Stuyvesant High School           754\n",
       "170                       Bronx High School of Science           714\n",
       "93                 Staten Island Technical High School           711\n",
       "365  Queens High School for the Sciences at York Co...           701\n",
       "68   High School for Mathematics, Science, and Engi...           683"
      ]
     },
     "execution_count": 70,
     "metadata": {},
     "output_type": "execute_result"
    }
   ],
   "source": [
    "best_math_schools = schools[schools['average_math'] >= 640][['school_name', 'average_math']].sort_values('average_math', ascending=False)\n",
    "\n",
    "best_math_schools.head()"
   ]
  },
  {
   "cell_type": "markdown",
   "id": "975392e9-7a83-48ca-934d-9ca75d2523ab",
   "metadata": {},
   "source": [
    "The top 10 schools based on combined SAT score"
   ]
  },
  {
   "cell_type": "code",
   "execution_count": 71,
   "id": "bbd1ad73-b4ff-404f-90db-82460f8b018e",
   "metadata": {
    "executionCancelledAt": null,
    "executionTime": 60,
    "lastExecutedAt": 1708281239862,
    "lastScheduledRunId": null,
    "lastSuccessfullyExecutedCode": "schools['total_SAT'] = (schools['average_math']) + (schools['average_reading']) + (schools['average_writing'])\n\ntop_10_schools = schools[['school_name', 'total_SAT']].sort_values('total_SAT', ascending=False).head(10)\n\ntop_10_schools.head(10)",
    "outputsMetadata": {
     "0": {
      "height": 0,
      "type": "dataFrame"
     }
    }
   },
   "outputs": [
    {
     "data": {
      "application/com.datacamp.data-table.v2+json": {
       "table": {
        "data": {
         "index": [
          88,
          170,
          93,
          174,
          333,
          365,
          5,
          280,
          45,
          68
         ],
         "school_name": [
          "Stuyvesant High School",
          "Bronx High School of Science",
          "Staten Island Technical High School",
          "High School of American Studies at Lehman College",
          "Townsend Harris High School",
          "Queens High School for the Sciences at York College",
          "Bard High School Early College",
          "Brooklyn Technical High School",
          "Eleanor Roosevelt High School",
          "High School for Mathematics, Science, and Engineering at City College"
         ],
         "total_SAT": [
          2144,
          2041,
          2041,
          2013,
          1981,
          1947,
          1914,
          1896,
          1889,
          1889
         ]
        },
        "schema": {
         "fields": [
          {
           "name": "index",
           "type": "integer"
          },
          {
           "name": "school_name",
           "type": "string"
          },
          {
           "name": "total_SAT",
           "type": "integer"
          }
         ],
         "pandas_version": "1.4.0",
         "primaryKey": [
          "index"
         ]
        }
       },
       "total_rows": 10,
       "truncation_type": null
      },
      "text/html": [
       "<div>\n",
       "<style scoped>\n",
       "    .dataframe tbody tr th:only-of-type {\n",
       "        vertical-align: middle;\n",
       "    }\n",
       "\n",
       "    .dataframe tbody tr th {\n",
       "        vertical-align: top;\n",
       "    }\n",
       "\n",
       "    .dataframe thead th {\n",
       "        text-align: right;\n",
       "    }\n",
       "</style>\n",
       "<table border=\"1\" class=\"dataframe\">\n",
       "  <thead>\n",
       "    <tr style=\"text-align: right;\">\n",
       "      <th></th>\n",
       "      <th>school_name</th>\n",
       "      <th>total_SAT</th>\n",
       "    </tr>\n",
       "  </thead>\n",
       "  <tbody>\n",
       "    <tr>\n",
       "      <th>88</th>\n",
       "      <td>Stuyvesant High School</td>\n",
       "      <td>2144</td>\n",
       "    </tr>\n",
       "    <tr>\n",
       "      <th>170</th>\n",
       "      <td>Bronx High School of Science</td>\n",
       "      <td>2041</td>\n",
       "    </tr>\n",
       "    <tr>\n",
       "      <th>93</th>\n",
       "      <td>Staten Island Technical High School</td>\n",
       "      <td>2041</td>\n",
       "    </tr>\n",
       "    <tr>\n",
       "      <th>174</th>\n",
       "      <td>High School of American Studies at Lehman College</td>\n",
       "      <td>2013</td>\n",
       "    </tr>\n",
       "    <tr>\n",
       "      <th>333</th>\n",
       "      <td>Townsend Harris High School</td>\n",
       "      <td>1981</td>\n",
       "    </tr>\n",
       "    <tr>\n",
       "      <th>365</th>\n",
       "      <td>Queens High School for the Sciences at York Co...</td>\n",
       "      <td>1947</td>\n",
       "    </tr>\n",
       "    <tr>\n",
       "      <th>5</th>\n",
       "      <td>Bard High School Early College</td>\n",
       "      <td>1914</td>\n",
       "    </tr>\n",
       "    <tr>\n",
       "      <th>280</th>\n",
       "      <td>Brooklyn Technical High School</td>\n",
       "      <td>1896</td>\n",
       "    </tr>\n",
       "    <tr>\n",
       "      <th>45</th>\n",
       "      <td>Eleanor Roosevelt High School</td>\n",
       "      <td>1889</td>\n",
       "    </tr>\n",
       "    <tr>\n",
       "      <th>68</th>\n",
       "      <td>High School for Mathematics, Science, and Engi...</td>\n",
       "      <td>1889</td>\n",
       "    </tr>\n",
       "  </tbody>\n",
       "</table>\n",
       "</div>"
      ],
      "text/plain": [
       "                                           school_name  total_SAT\n",
       "88                              Stuyvesant High School       2144\n",
       "170                       Bronx High School of Science       2041\n",
       "93                 Staten Island Technical High School       2041\n",
       "174  High School of American Studies at Lehman College       2013\n",
       "333                        Townsend Harris High School       1981\n",
       "365  Queens High School for the Sciences at York Co...       1947\n",
       "5                       Bard High School Early College       1914\n",
       "280                     Brooklyn Technical High School       1896\n",
       "45                       Eleanor Roosevelt High School       1889\n",
       "68   High School for Mathematics, Science, and Engi...       1889"
      ]
     },
     "execution_count": 71,
     "metadata": {},
     "output_type": "execute_result"
    }
   ],
   "source": [
    "schools['total_SAT'] = (schools['average_math']) + (schools['average_reading']) + (schools['average_writing'])\n",
    "\n",
    "top_10_schools = schools[['school_name', 'total_SAT']].sort_values('total_SAT', ascending=False).head(10)\n",
    "\n",
    "top_10_schools.head(10)"
   ]
  },
  {
   "cell_type": "markdown",
   "id": "13c89a3d-c0cc-40c0-8c24-d788c8f9ea53",
   "metadata": {},
   "source": [
    "The borough with the largest standard deviation in the combined SAT score"
   ]
  },
  {
   "cell_type": "code",
   "execution_count": 72,
   "id": "5e931161-766c-45c9-81ac-4be664436575",
   "metadata": {
    "executionCancelledAt": null,
    "executionTime": 64,
    "lastExecutedAt": 1708281239927,
    "lastScheduledRunId": null,
    "lastSuccessfullyExecutedCode": "# count the schools per borough, the mean of the total SAT per borough, and the standard deviation of the total SAT per borough\nborough_stats = schools.groupby('borough')['total_SAT'].agg(['std', 'count', 'mean']).round(2)\n\n# max std dev borough\nlargest_std_dev = borough_stats[borough_stats['std'] == borough_stats['std'].max()]\n\nlargest_std_dev = largest_std_dev.rename(columns={'count':'num_schools', 'mean':'average_SAT', 'std':'std_SAT'})\n\nlargest_std_dev.reset_index(inplace=True)\nlargest_std_dev.head()",
    "outputsMetadata": {
     "0": {
      "height": 0,
      "type": "dataFrame"
     }
    }
   },
   "outputs": [
    {
     "data": {
      "application/com.datacamp.data-table.v2+json": {
       "table": {
        "data": {
         "average_SAT": [
          1340.13
         ],
         "borough": [
          "Manhattan"
         ],
         "index": [
          0
         ],
         "num_schools": [
          89
         ],
         "std_SAT": [
          230.29
         ]
        },
        "schema": {
         "fields": [
          {
           "name": "index",
           "type": "integer"
          },
          {
           "name": "borough",
           "type": "string"
          },
          {
           "name": "std_SAT",
           "type": "number"
          },
          {
           "name": "num_schools",
           "type": "integer"
          },
          {
           "name": "average_SAT",
           "type": "number"
          }
         ],
         "pandas_version": "1.4.0",
         "primaryKey": [
          "index"
         ]
        }
       },
       "total_rows": 1,
       "truncation_type": null
      },
      "text/html": [
       "<div>\n",
       "<style scoped>\n",
       "    .dataframe tbody tr th:only-of-type {\n",
       "        vertical-align: middle;\n",
       "    }\n",
       "\n",
       "    .dataframe tbody tr th {\n",
       "        vertical-align: top;\n",
       "    }\n",
       "\n",
       "    .dataframe thead th {\n",
       "        text-align: right;\n",
       "    }\n",
       "</style>\n",
       "<table border=\"1\" class=\"dataframe\">\n",
       "  <thead>\n",
       "    <tr style=\"text-align: right;\">\n",
       "      <th></th>\n",
       "      <th>borough</th>\n",
       "      <th>std_SAT</th>\n",
       "      <th>num_schools</th>\n",
       "      <th>average_SAT</th>\n",
       "    </tr>\n",
       "  </thead>\n",
       "  <tbody>\n",
       "    <tr>\n",
       "      <th>0</th>\n",
       "      <td>Manhattan</td>\n",
       "      <td>230.29</td>\n",
       "      <td>89</td>\n",
       "      <td>1340.13</td>\n",
       "    </tr>\n",
       "  </tbody>\n",
       "</table>\n",
       "</div>"
      ],
      "text/plain": [
       "     borough  std_SAT  num_schools  average_SAT\n",
       "0  Manhattan   230.29           89      1340.13"
      ]
     },
     "execution_count": 72,
     "metadata": {},
     "output_type": "execute_result"
    }
   ],
   "source": [
    "# count the schools per borough, the mean of the total SAT per borough, and the standard deviation of the total SAT per borough\n",
    "borough_stats = schools.groupby('borough')['total_SAT'].agg(['std', 'count', 'mean']).round(2)\n",
    "\n",
    "# max std dev borough\n",
    "largest_std_dev = borough_stats[borough_stats['std'] == borough_stats['std'].max()]\n",
    "\n",
    "largest_std_dev = largest_std_dev.rename(columns={'count':'num_schools', 'mean':'average_SAT', 'std':'std_SAT'})\n",
    "\n",
    "largest_std_dev.reset_index(inplace=True)\n",
    "largest_std_dev.head()"
   ]
  }
 ],
 "metadata": {
  "editor": "DataCamp Workspace",
  "kernelspec": {
   "display_name": "Python 3 (ipykernel)",
   "language": "python",
   "name": "python3"
  },
  "language_info": {
   "codemirror_mode": {
    "name": "ipython",
    "version": 3
   },
   "file_extension": ".py",
   "mimetype": "text/x-python",
   "name": "python",
   "nbconvert_exporter": "python",
   "pygments_lexer": "ipython3",
   "version": "3.11.5"
  }
 },
 "nbformat": 4,
 "nbformat_minor": 5
}
